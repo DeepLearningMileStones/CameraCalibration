{
 "cells": [
  {
   "cell_type": "code",
   "execution_count": 2,
   "id": "5cb18753-eed3-4866-a6f7-04c1138a7a8c",
   "metadata": {},
   "outputs": [],
   "source": [
    "import cv2\n",
    "import matplotlib.pyplot as plt\n",
    "import os\n",
    "import numpy as np\n",
    "import glob"
   ]
  },
  {
   "cell_type": "code",
   "execution_count": 16,
   "id": "46a671b9-6e68-48ba-b988-ec6daa89eee7",
   "metadata": {},
   "outputs": [],
   "source": [
    "def create_affined_images():\n",
    "\n",
    "    os.chdir(r'C:\\Users\\dell\\camcal\\createdNew Image(800, 1200)')\n",
    "    img = cv2.imread('New.jpg')\n",
    "\n",
    "    for i in range(10):\n",
    "        # Applying affine transform\n",
    "        srcTri = np.array( [[0, 0], [img.shape[1] - 1, 0], [0, img.shape[0] - 1]] ).astype(np.float32)\n",
    "        dstTri = np.array( [[0, 0], [img.shape[1], (i+1)*20], \n",
    "                            [0, img.shape[0]]]).astype(np.float32)\n",
    "        \n",
    "        warp_mat = cv2.getAffineTransform(srcTri, dstTri)\n",
    "        \n",
    "        warp_dst = cv2.warpAffine(img, warp_mat, (img.shape[1], img.shape[0]), borderValue=(255,255,255))\n",
    "        \n",
    "        cv2.imwrite(f'{i}.original.jpg', warp_dst)\n",
    "\n",
    "    for i in range(10):\n",
    "        # Applying affine transform\n",
    "        srcTri = np.array( [[0, 0], [img.shape[1] - 1, 0], [0, img.shape[0] - 1]] ).astype(np.float32)\n",
    "        dstTri = np.array( [[0, 0], [img.shape[1], 0], \n",
    "                            [(i+1)*20, img.shape[0]]]).astype(np.float32)\n",
    "        \n",
    "        warp_mat = cv2.getAffineTransform(srcTri, dstTri)\n",
    "        \n",
    "        warp_dst = cv2.warpAffine(img, warp_mat, (img.shape[1], img.shape[0]), borderValue=(255,255,255))\n",
    "        \n",
    "        cv2.imwrite(f'{i+10}.original.jpg', warp_dst)\n",
    "    \n"
   ]
  },
  {
   "cell_type": "code",
   "execution_count": 17,
   "id": "35f7b75d-5dc3-4a2b-9a42-60a7869a16e4",
   "metadata": {},
   "outputs": [],
   "source": [
    "create_affined_images()"
   ]
  },
  {
   "cell_type": "code",
   "execution_count": null,
   "id": "d148e8a5-e191-4121-bbca-68fd632dfe4c",
   "metadata": {},
   "outputs": [],
   "source": []
  }
 ],
 "metadata": {
  "kernelspec": {
   "display_name": "Python 3 (ipykernel)",
   "language": "python",
   "name": "python3"
  },
  "language_info": {
   "codemirror_mode": {
    "name": "ipython",
    "version": 3
   },
   "file_extension": ".py",
   "mimetype": "text/x-python",
   "name": "python",
   "nbconvert_exporter": "python",
   "pygments_lexer": "ipython3",
   "version": "3.10.13"
  }
 },
 "nbformat": 4,
 "nbformat_minor": 5
}

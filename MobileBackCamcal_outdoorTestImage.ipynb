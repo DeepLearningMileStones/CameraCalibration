{
 "cells": [
  {
   "cell_type": "code",
   "execution_count": 1,
   "id": "cabce30b-5845-4d59-90fb-7fa4b077241c",
   "metadata": {},
   "outputs": [],
   "source": [
    "import numpy as np\n",
    "import cv2\n",
    "import yaml\n",
    "from math import *\n",
    "import os\n",
    "import matplotlib.pyplot as plt"
   ]
  },
  {
   "cell_type": "code",
   "execution_count": 27,
   "id": "97542194-5b5c-4c20-a991-41dade981520",
   "metadata": {},
   "outputs": [],
   "source": [
    "def create_image(start_point):\n",
    "    frame_size = (1600, 1600, 3)\n",
    "    image = np.ones(tuple(frame_size), dtype = np.int32)\n",
    "    image = 255*image\n",
    "    w, h = frame_size[:2]\n",
    "    square_size = 100\n",
    "    #start_point = (20, 20)\n",
    "    chessboard_size = (7, 11)\n",
    "    end_point = (start_point[0] + 11*square_size, start_point[1] + 7*square_size)\n",
    "    \n",
    "    for j in range(h):\n",
    "        for i in range(w):\n",
    "            if (i>start_point[0] and j>start_point[1]) and (i<end_point[0] and j<end_point[1]):\n",
    "                x, y = i-start_point[0], j-start_point[1]\n",
    "                if (x<square_size and y<square_size):\n",
    "                    image[i][j] = [0,0,0]\n",
    "                elif (x>square_size or y>square_size):\n",
    "                    xq, yq = x//100, y//100\n",
    "                    if (xq+yq)%2 == 0:\n",
    "                        image[i][j] = [0,0,0]     \n",
    "\n",
    "    return image"
   ]
  },
  {
   "cell_type": "code",
   "execution_count": 36,
   "id": "6d0017e1-34ae-41ba-9df3-c70305682527",
   "metadata": {},
   "outputs": [],
   "source": [
    "os.chdir(r'C:\\Users\\dell\\camcal\\CreatedChessboardImages')\n",
    "for j in range(4):\n",
    "    for i in range(2):\n",
    "        start_point = ((i)*200, (j)*200)\n",
    "        img = create_image(start_point)\n",
    "        cv2.imwrite(f'created_image_{i},{j}.jpg', img)"
   ]
  },
  {
   "cell_type": "code",
   "execution_count": 32,
   "id": "aa671851-ad88-4f4e-837c-52895f4b1ff5",
   "metadata": {},
   "outputs": [
    {
     "data": {
      "text/plain": [
       "<matplotlib.image.AxesImage at 0x29fadf6f340>"
      ]
     },
     "execution_count": 32,
     "metadata": {},
     "output_type": "execute_result"
    },
    {
     "data": {
      "image/png": "[encoded data removed]",
      "text/plain": [
       "<Figure size 640x480 with 1 Axes>"
      ]
     },
     "metadata": {},
     "output_type": "display_data"
    }
   ],
   "source": [
    "plt.imshow(img)"
   ]
  },
  {
   "cell_type": "code",
   "execution_count": null,
   "id": "be8526e1-5589-457e-88b1-4eb37c37fcb7",
   "metadata": {},
   "outputs": [],
   "source": []
  }
 ],
 "metadata": {
  "kernelspec": {
   "display_name": "Python 3 (ipykernel)",
   "language": "python",
   "name": "python3"
  },
  "language_info": {
   "codemirror_mode": {
    "name": "ipython",
    "version": 3
   },
   "file_extension": ".py",
   "mimetype": "text/x-python",
   "name": "python",
   "nbconvert_exporter": "python",
   "pygments_lexer": "ipython3",
   "version": "3.10.13"
  }
 },
 "nbformat": 4,
 "nbformat_minor": 5
}

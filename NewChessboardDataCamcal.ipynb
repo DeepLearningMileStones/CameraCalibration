{
 "cells": [
  {
   "cell_type": "code",
   "execution_count": 119,
   "id": "22955c52-7079-4904-beb0-c4756e5749d4",
   "metadata": {},
   "outputs": [],
   "source": [
    "import numpy as np\n",
    "import cv2\n",
    "import yaml\n",
    "from math import *\n",
    "import matplotlib.pyplot as plt\n",
    "import os\n",
    "import glob\n",
    "chessboardsize = (10,6)"
   ]
  },
  {
   "cell_type": "code",
   "execution_count": 120,
   "id": "544cb24d-ebb8-449a-8e90-460c3ae2bf2f",
   "metadata": {},
   "outputs": [],
   "source": [
    "# termination criteria\n",
    "criteria = (cv2.TERM_CRITERIA_EPS + cv2.TERM_CRITERIA_MAX_ITER, 30, 0.001)\n",
    "\n",
    "chessboardsize = (10,6)\n",
    "frame_size = (720, 1600)\n",
    "\n",
    "# prepare object points, like (0,0,0), (1,0,0), (2,0,0) ....,(6,5,0)\n",
    "objp = np.zeros((chessboardsize[0] * chessboardsize[1],3), np.float32)\n",
    "objp[:,:2] = np.mgrid[0:chessboardsize[0],0:chessboardsize[1]].T.reshape(-1,2)\n",
    "\n",
    "# Arrays to store object points and image points from all the images.\n",
    "objpoints = [] # 3d point in real world space\n",
    "imgpoints = [] # 2d points in image plane."
   ]
  },
  {
   "cell_type": "code",
   "execution_count": 121,
   "id": "f8a134f6-9aaf-423d-974a-956a2dda0f24",
   "metadata": {},
   "outputs": [],
   "source": [
    "os.chdir(r'C:\\Users\\dell\\camcal\\customChessboardCalibration\\chessboardImages')\n",
    "images = glob.glob('*.jpg')\n",
    "for image in images:\n",
    "    img = cv2.imread(image)\n",
    "    gray = cv2.cvtColor(img, cv2.COLOR_BGR2GRAY)\n",
    "\n",
    "    ret, corners = cv2.findChessboardCorners(gray, chessboardsize, None)\n",
    "\n",
    "    if ret == True:\n",
    "        objpoints.append(objp)\n",
    "        corners2 = cv2.cornerSubPix(gray, corners, (11,11), (-1,-1), criteria)\n",
    "        imgpoints.append(corners2)\n",
    "\n",
    "        \n",
    "        #Draw chess board corners\n",
    "        cv2.drawChessboardCorners(img, chessboardsize, corners2, ret)\n",
    " "
   ]
  },
  {
   "cell_type": "code",
   "execution_count": 122,
   "id": "0c8e65fe-b071-4a5a-987f-6acf54adbb85",
   "metadata": {},
   "outputs": [],
   "source": [
    "ret, mtx, dist, rvecs, tvecs = cv2.calibrateCamera(objpoints, imgpoints, \n",
    "                                                   gray.shape[::-1], None, None)"
   ]
  },
  {
   "cell_type": "code",
   "execution_count": 123,
   "id": "92a84df0-a10f-4868-ba1f-2b4d8ebfd9e8",
   "metadata": {},
   "outputs": [
    {
     "data": {
      "text/plain": [
       "10"
      ]
     },
     "execution_count": 123,
     "metadata": {},
     "output_type": "execute_result"
    }
   ],
   "source": [
    "len(imgpoints)"
   ]
  },
  {
   "cell_type": "code",
   "execution_count": 124,
   "id": "715758c5-e54f-4701-9440-23e52d67488a",
   "metadata": {},
   "outputs": [
    {
     "data": {
      "text/plain": [
       "(array([[1.16053179e+03, 0.00000000e+00, 3.47154264e+02],\n",
       "        [0.00000000e+00, 1.15044497e+03, 8.06203814e+02],\n",
       "        [0.00000000e+00, 0.00000000e+00, 1.00000000e+00]]),\n",
       " array([[ 1.22323383e-01, -4.96427131e-01, -7.72714868e-04,\n",
       "         -4.26708240e-04,  6.85348945e-01]]))"
      ]
     },
     "execution_count": 124,
     "metadata": {},
     "output_type": "execute_result"
    }
   ],
   "source": [
    "mtx, dist"
   ]
  },
  {
   "cell_type": "markdown",
   "id": "929e6ef4-3504-4499-a47f-79a381e7856c",
   "metadata": {},
   "source": [
    "## k1=0.12232, k2=-0.49642, p1=-0.00077, p2=-0.00042, k3=0.68534 "
   ]
  },
  {
   "cell_type": "code",
   "execution_count": 125,
   "id": "f6d6b24d-0faf-4dac-9118-601faad93869",
   "metadata": {},
   "outputs": [],
   "source": [
    "new_mtx, roi = cv2.getOptimalNewCameraMatrix(mtx, dist, imageSize = tuple(frame_size), \n",
    "                                             alpha = 1, newImgSize=tuple(frame_size))"
   ]
  },
  {
   "cell_type": "code",
   "execution_count": 126,
   "id": "94046c43-e65f-4c4e-a600-89c8eca852e7",
   "metadata": {},
   "outputs": [
    {
     "data": {
      "text/plain": [
       "(array([[1.16945731e+03, 0.00000000e+00, 3.47122540e+02],\n",
       "        [0.00000000e+00, 1.17178333e+03, 8.04480353e+02],\n",
       "        [0.00000000e+00, 0.00000000e+00, 1.00000000e+00]]),\n",
       " (8, 10, 702, 1580))"
      ]
     },
     "execution_count": 126,
     "metadata": {},
     "output_type": "execute_result"
    }
   ],
   "source": [
    "new_mtx, roi"
   ]
  },
  {
   "cell_type": "code",
   "execution_count": 134,
   "id": "8b2a6796-3aeb-42ac-9d57-2fb12050cf8d",
   "metadata": {},
   "outputs": [],
   "source": []
  },
  {
   "cell_type": "markdown",
   "id": "d9a71879-b4e3-47e6-9197-341d8c2e47bd",
   "metadata": {},
   "source": [
    "## Removing distortions from images and saving them"
   ]
  },
  {
   "cell_type": "code",
   "execution_count": 113,
   "id": "6f09b8bf-ccdc-4528-bc64-be72b047d643",
   "metadata": {},
   "outputs": [],
   "source": [
    "for i, image in enumerate(images):\n",
    "    \n",
    "    os.chdir(r'C:\\Users\\dell\\camcal\\customChessboardCalibration\\chessboardImages')\n",
    "    img = cv2.imread(image)\n",
    "    \n",
    "    # undistort\n",
    "    dst = cv2.undistort(img, mtx, dist, None, new_mtx)\n",
    "    # crop the image\n",
    "    x, y, w, h = roi\n",
    "    dst = dst[y:y+h, x:x+w]\n",
    "    os.chdir(r'C:\\Users\\dell\\camcal\\customChessboardCalibration\\chessboardImages\\UndistortedImages')\n",
    "    cv2.imwrite(f'undistorted_{i}.jpg', dst)\n",
    "    "
   ]
  },
  {
   "cell_type": "code",
   "execution_count": 144,
   "id": "613ddc78-c32d-4495-bfdb-ebd76dcb5148",
   "metadata": {},
   "outputs": [
    {
     "data": {
      "text/plain": [
       "(1580, 702, (8, 10, 702, 1580), 8, 10)"
      ]
     },
     "execution_count": 144,
     "metadata": {},
     "output_type": "execute_result"
    }
   ],
   "source": [
    "h, w = dst.shape[:2]\n",
    "h, w, roi, x, y"
   ]
  },
  {
   "cell_type": "code",
   "execution_count": 149,
   "id": "e72e8aea-89c9-48d0-954a-cd4e34117437",
   "metadata": {},
   "outputs": [
    {
     "name": "stdout",
     "output_type": "stream",
     "text": [
      "347 804\n"
     ]
    },
    {
     "data": {
      "text/plain": [
       "(339, 794)"
      ]
     },
     "execution_count": 149,
     "metadata": {},
     "output_type": "execute_result"
    }
   ],
   "source": [
    "# Realigning centre wrt roi\n",
    "\n",
    "cx = new_mtx[0][2].astype(np.int32)\n",
    "cy = new_mtx[1][2].astype(np.int32)\n",
    "fx = new_mtx[0][0].astype(np.int32)\n",
    "fy = new_mtx[1][1].astype(np.int32)\n",
    "print(cx,cy)\n",
    "cx = cx - x\n",
    "cy = cy - y\n",
    "cx, cy"
   ]
  },
  {
   "cell_type": "markdown",
   "id": "2de09d42-f471-45b5-a86a-2a610a565bf8",
   "metadata": {},
   "source": [
    "## Distorting Images"
   ]
  },
  {
   "cell_type": "code",
   "execution_count": 211,
   "id": "49f823b2-be1f-4885-a96a-a336ffa81f56",
   "metadata": {},
   "outputs": [
    {
     "data": {
      "text/plain": [
       "array([[ 3.66970149e-01, -1.48928139e+00, -2.31814460e-03,\n",
       "        -1.28012472e-03,  2.05604684e+00]])"
      ]
     },
     "execution_count": 211,
     "metadata": {},
     "output_type": "execute_result"
    }
   ],
   "source": [
    "dist_assumed = np.array([[ 1.22323383e-01, -4.96427131e-01, -7.72714868e-04,\n",
    "         -4.26708240e-04,  6.85348945e-01]])\n",
    "dist_assumed = dist_assumed * 3\n",
    "dist_assumed"
   ]
  },
  {
   "cell_type": "code",
   "execution_count": 212,
   "id": "1c989862-79e1-4e73-9ac0-9fb370f03bc9",
   "metadata": {},
   "outputs": [],
   "source": [
    "def dist_point(x, y):\n",
    "    k1 = dist_assumed[0][0]\n",
    "    k2 = dist_assumed[0][1]\n",
    "    p1 = dist_assumed[0][2]\n",
    "    p2 = dist_assumed[0][3]\n",
    "    k3 = dist_assumed[0][4]\n",
    "    \n",
    "    \n",
    "    x = (x - cx)/fx\n",
    "    y = (y - cy)/fy\n",
    "    r = (x**2 + y**2) ** 0.5\n",
    "    \n",
    "    xd = x * (1 + k1*(r**2)+ k2*(r**4) + k3*(r**6))\n",
    "    yd = y * (1 + k1*(r**2)+ k2*(r**4) + k3*(r**6))\n",
    "    xd = xd+(2*p1*xd*yd + p2*(r**2 + 2*(xd**2)))\n",
    "    yd = yd+(p1*(r**2 + 2*(yd**2))+ 2*p2*xd*yd)\n",
    "    \n",
    "    x = x*fx + cx\n",
    "    y = y*fy + cy\n",
    "    xd = xd*fx + cx\n",
    "    yd = yd*fy +cy\n",
    "    x, y, xd, yd = int(x), int(y), int(xd), int(yd)\n",
    "    return xd, yd\n",
    "\n",
    "def distort_img(img):\n",
    "    new_img = np.zeros(shape = img.shape, dtype = np.int32)\n",
    "    h = new_img.shape[0]\n",
    "    w = new_img.shape[1]\n",
    "    for i in range(h):\n",
    "        for j in range(w):\n",
    "             \n",
    "            dist_j, dist_i = dist_point(j, i)\n",
    "            if (dist_j<0 or dist_i<0) or (dist_j>w-1 or dist_i>h-1):\n",
    "                #Cannot be mapped\n",
    "               \n",
    "                pass\n",
    "            else:\n",
    "                \n",
    "                new_img[dist_i][dist_j] = img[i][j]\n",
    "    return new_img"
   ]
  },
  {
   "cell_type": "code",
   "execution_count": 213,
   "id": "aa863f48-51fb-4a14-b4a9-82abd8489793",
   "metadata": {},
   "outputs": [],
   "source": [
    "os.chdir(r'C:\\Users\\dell\\camcal\\customChessboardCalibration\\chessboardImages\\UndistortedImages')\n",
    "images = glob.glob('*.jpg')\n",
    "\n",
    "for i, image in enumerate(images):\n",
    "    os.chdir(r'C:\\Users\\dell\\camcal\\customChessboardCalibration\\chessboardImages\\UndistortedImages')\n",
    "    img = cv2.imread(image)\n",
    "    img = cv2.cvtColor(img, cv2.COLOR_BGR2RGB)\n",
    "    imgDist = distort_img(img)\n",
    "    \n",
    "    os.chdir(r'C:\\Users\\dell\\camcal\\DistortedImages2')\n",
    "    cv2.imwrite(f'Distorted_Cropped_image_{i}.jpg', imgDist)"
   ]
  },
  {
   "cell_type": "markdown",
   "id": "a9a0da80-f4e9-4631-ae0f-beee69ab322f",
   "metadata": {},
   "source": [
    "## Using distorted images & calibrating them"
   ]
  },
  {
   "cell_type": "code",
   "execution_count": 214,
   "id": "6f269b86-c5cc-4936-9dae-2140562bc5d3",
   "metadata": {},
   "outputs": [],
   "source": [
    "os.chdir(r'C:\\Users\\dell\\camcal\\DistortedImages2')\n",
    "dist_images = glob.glob('*.jpg')\n",
    "\n",
    "# termination criteria\n",
    "criteria = (cv2.TERM_CRITERIA_EPS + cv2.TERM_CRITERIA_MAX_ITER, 30, 0.001)\n",
    "\n",
    "chessboardsize = (10,6)\n",
    "frame_size = w, h\n",
    "\n",
    "# prepare object points, like (0,0,0), (1,0,0), (2,0,0) ....,(6,5,0)\n",
    "objp = np.zeros((chessboardsize[0] * chessboardsize[1],3), np.float32)\n",
    "objp[:,:2] = np.mgrid[0:chessboardsize[0],0:chessboardsize[1]].T.reshape(-1,2)\n",
    "\n",
    "# Arrays to store object points and image points from all the images.\n",
    "objpoints = [] # 3d point in real world space\n",
    "imgpoints = [] # 2d points in image plane.\n",
    "for image in dist_images:\n",
    "    img = cv2.imread(image)\n",
    "    gray = cv2.cvtColor(img, cv2.COLOR_BGR2GRAY)\n",
    "\n",
    "    ret, corners = cv2.findChessboardCorners(gray, chessboardsize, None)\n",
    "\n",
    "    if ret == True:\n",
    "        objpoints.append(objp)\n",
    "        corners2 = cv2.cornerSubPix(gray, corners, (11,11), (-1,-1), criteria)\n",
    "        imgpoints.append(corners2)\n",
    "\n",
    "        \n",
    "        #Draw chess board corners\n",
    "        cv2.drawChessboardCorners(img, chessboardsize, corners2, ret)\n",
    "        \n",
    "ret, mtx, dist, rvecs, tvecs = cv2.calibrateCamera(objpoints, imgpoints, \n",
    "                                                   gray.shape[::-1], None, None)"
   ]
  },
  {
   "cell_type": "code",
   "execution_count": 215,
   "id": "6a21d68c-83cf-4151-a557-840b1163c299",
   "metadata": {},
   "outputs": [
    {
     "data": {
      "text/plain": [
       "9"
      ]
     },
     "execution_count": 215,
     "metadata": {},
     "output_type": "execute_result"
    }
   ],
   "source": [
    "len(imgpoints)"
   ]
  },
  {
   "cell_type": "code",
   "execution_count": 216,
   "id": "94cb8f09-7afe-4745-81ff-75525dcc09ac",
   "metadata": {},
   "outputs": [
    {
     "data": {
      "text/plain": [
       "array([[ 3.66970149e-01, -1.48928139e+00, -2.31814460e-03,\n",
       "        -1.28012472e-03,  2.05604684e+00]])"
      ]
     },
     "execution_count": 216,
     "metadata": {},
     "output_type": "execute_result"
    }
   ],
   "source": [
    "dist_assumed"
   ]
  },
  {
   "cell_type": "code",
   "execution_count": 217,
   "id": "58eccba3-48c7-4678-8287-1552bbb801f2",
   "metadata": {},
   "outputs": [
    {
     "data": {
      "text/plain": [
       "array([[ 0.30546097, -0.86156249, -0.0063288 , -0.0077803 ,  1.02091076]])"
      ]
     },
     "execution_count": 217,
     "metadata": {},
     "output_type": "execute_result"
    }
   ],
   "source": [
    "dist"
   ]
  },
  {
   "cell_type": "code",
   "execution_count": null,
   "id": "ad8b263c-22cc-4d4c-aa00-df7ced452ccb",
   "metadata": {},
   "outputs": [],
   "source": []
  },
  {
   "cell_type": "code",
   "execution_count": null,
   "id": "a0aba232-fb60-4c6d-b198-06fb97ee3db0",
   "metadata": {},
   "outputs": [],
   "source": []
  },
  {
   "cell_type": "code",
   "execution_count": null,
   "id": "40a9bc94-4988-42af-a8e2-4a91dea0af69",
   "metadata": {},
   "outputs": [],
   "source": []
  },
  {
   "cell_type": "code",
   "execution_count": null,
   "id": "b6e93a63-1af3-473e-b348-ecea335bdf56",
   "metadata": {},
   "outputs": [],
   "source": []
  },
  {
   "cell_type": "code",
   "execution_count": 31,
   "id": "6c23213e-3a06-4e76-8341-ad0e75f62759",
   "metadata": {},
   "outputs": [
    {
     "data": {
      "text/plain": [
       "[0.3, -1.28, -0.001, 0.0002, 1.78]"
      ]
     },
     "execution_count": 31,
     "metadata": {},
     "output_type": "execute_result"
    }
   ],
   "source": [
    "[k1, k2, p1, p2, k3]"
   ]
  },
  {
   "cell_type": "code",
   "execution_count": 28,
   "id": "ed327c8e-7165-4506-ad22-4e50b5b46310",
   "metadata": {},
   "outputs": [
    {
     "data": {
      "text/plain": [
       "array([[ 0.40209624, -0.93054953, -0.0163314 , -0.09411783,  1.16097643]])"
      ]
     },
     "execution_count": 28,
     "metadata": {},
     "output_type": "execute_result"
    }
   ],
   "source": [
    "dist"
   ]
  },
  {
   "cell_type": "code",
   "execution_count": null,
   "id": "be7c210f-332e-4c85-a1c5-1909439a349d",
   "metadata": {},
   "outputs": [],
   "source": []
  }
 ],
 "metadata": {
  "kernelspec": {
   "display_name": "Python 3 (ipykernel)",
   "language": "python",
   "name": "python3"
  },
  "language_info": {
   "codemirror_mode": {
    "name": "ipython",
    "version": 3
   },
   "file_extension": ".py",
   "mimetype": "text/x-python",
   "name": "python",
   "nbconvert_exporter": "python",
   "pygments_lexer": "ipython3",
   "version": "3.10.13"
  }
 },
 "nbformat": 4,
 "nbformat_minor": 5
}
